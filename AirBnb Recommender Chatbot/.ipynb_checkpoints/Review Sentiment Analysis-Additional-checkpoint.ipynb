{
 "cells": [
  {
   "cell_type": "code",
   "execution_count": 1,
   "metadata": {},
   "outputs": [],
   "source": [
    "import numpy as np\n",
    "import pandas as pd\n",
    "import matplotlib.pyplot as plt\n",
    "\n",
    "import nltk\n",
    "from nltk.corpus import stopwords\n",
    "from nltk.sentiment.vader import SentimentIntensityAnalyzer\n",
    "#nltk.download('vader_lexicon') #Lexicon for Sentiment Analyze\n",
    "#nltk.download('words')\n",
    "\n",
    "# Language detection\n",
    "from langdetect import detect\n",
    "# Reference: https://stackoverflow.com/questions/3182268/nltk-and-language-detection\n",
    "\n",
    "import warnings\n",
    "warnings.filterwarnings('ignore')"
   ]
  },
  {
   "cell_type": "code",
   "execution_count": 2,
   "metadata": {},
   "outputs": [
    {
     "data": {
      "text/html": [
       "<div>\n",
       "<style scoped>\n",
       "    .dataframe tbody tr th:only-of-type {\n",
       "        vertical-align: middle;\n",
       "    }\n",
       "\n",
       "    .dataframe tbody tr th {\n",
       "        vertical-align: top;\n",
       "    }\n",
       "\n",
       "    .dataframe thead th {\n",
       "        text-align: right;\n",
       "    }\n",
       "</style>\n",
       "<table border=\"1\" class=\"dataframe\">\n",
       "  <thead>\n",
       "    <tr style=\"text-align: right;\">\n",
       "      <th></th>\n",
       "      <th>listing_id</th>\n",
       "      <th>id</th>\n",
       "      <th>date</th>\n",
       "      <th>reviewer_id</th>\n",
       "      <th>reviewer_name</th>\n",
       "      <th>comments</th>\n",
       "    </tr>\n",
       "  </thead>\n",
       "  <tbody>\n",
       "    <tr>\n",
       "      <th>72798</th>\n",
       "      <td>7324041</td>\n",
       "      <td>51953450</td>\n",
       "      <td>2015-10-25</td>\n",
       "      <td>45693003</td>\n",
       "      <td>Janice</td>\n",
       "      <td>Tim is super friendly and welcomed us warmly! ...</td>\n",
       "    </tr>\n",
       "    <tr>\n",
       "      <th>80816</th>\n",
       "      <td>5760902</td>\n",
       "      <td>56385722</td>\n",
       "      <td>2015-12-13</td>\n",
       "      <td>6637400</td>\n",
       "      <td>Julia</td>\n",
       "      <td>Our stay at Ryan's place was perfect. The apar...</td>\n",
       "    </tr>\n",
       "    <tr>\n",
       "      <th>19994</th>\n",
       "      <td>2459519</td>\n",
       "      <td>49585711</td>\n",
       "      <td>2015-10-05</td>\n",
       "      <td>8208960</td>\n",
       "      <td>Linda</td>\n",
       "      <td>Megan made us feel comfortable the house was w...</td>\n",
       "    </tr>\n",
       "  </tbody>\n",
       "</table>\n",
       "</div>"
      ],
      "text/plain": [
       "       listing_id        id        date  reviewer_id reviewer_name  \\\n",
       "72798     7324041  51953450  2015-10-25     45693003        Janice   \n",
       "80816     5760902  56385722  2015-12-13      6637400         Julia   \n",
       "19994     2459519  49585711  2015-10-05      8208960         Linda   \n",
       "\n",
       "                                                comments  \n",
       "72798  Tim is super friendly and welcomed us warmly! ...  \n",
       "80816  Our stay at Ryan's place was perfect. The apar...  \n",
       "19994  Megan made us feel comfortable the house was w...  "
      ]
     },
     "execution_count": 2,
     "metadata": {},
     "output_type": "execute_result"
    }
   ],
   "source": [
    "airbnbs = pd.read_csv(\"listings.csv\")\n",
    "reviews = pd.read_csv(\"reviews.csv\")\n",
    "reviews.sample(3)"
   ]
  },
  {
   "cell_type": "code",
   "execution_count": 3,
   "metadata": {},
   "outputs": [
    {
     "name": "stdout",
     "output_type": "stream",
     "text": [
      "(84849, 6)\n",
      "(50000, 6)\n"
     ]
    }
   ],
   "source": [
    "print(reviews.shape)\n",
    "# Too big a dataset for my computer to process without waiting for a long time\n",
    "# For demonstration purpose, will only use 50000 reviews\n",
    "reviews = reviews.sample(50000)\n",
    "print(reviews.shape)"
   ]
  },
  {
   "cell_type": "code",
   "execution_count": 4,
   "metadata": {},
   "outputs": [
    {
     "data": {
      "text/plain": [
       "8"
      ]
     },
     "execution_count": 4,
     "metadata": {},
     "output_type": "execute_result"
    }
   ],
   "source": [
    "reviews['comments'].isnull().sum()"
   ]
  },
  {
   "cell_type": "code",
   "execution_count": 5,
   "metadata": {},
   "outputs": [],
   "source": [
    "# Drop reviews with empty comments\n",
    "reviews.dropna(inplace=True)\n",
    "\n",
    "# Drop reviews that have less than 30 characters. Will not be very helpful\n",
    "reviews.drop(reviews[reviews['comments'].apply(lambda x : len(x)) < 50].index, inplace=True)"
   ]
  },
  {
   "cell_type": "code",
   "execution_count": 6,
   "metadata": {},
   "outputs": [
    {
     "data": {
      "text/html": [
       "<div>\n",
       "<style scoped>\n",
       "    .dataframe tbody tr th:only-of-type {\n",
       "        vertical-align: middle;\n",
       "    }\n",
       "\n",
       "    .dataframe tbody tr th {\n",
       "        vertical-align: top;\n",
       "    }\n",
       "\n",
       "    .dataframe thead th {\n",
       "        text-align: right;\n",
       "    }\n",
       "</style>\n",
       "<table border=\"1\" class=\"dataframe\">\n",
       "  <thead>\n",
       "    <tr style=\"text-align: right;\">\n",
       "      <th></th>\n",
       "      <th>listing_id</th>\n",
       "      <th>id</th>\n",
       "      <th>date</th>\n",
       "      <th>reviewer_id</th>\n",
       "      <th>reviewer_name</th>\n",
       "      <th>comments</th>\n",
       "      <th>English</th>\n",
       "    </tr>\n",
       "  </thead>\n",
       "  <tbody>\n",
       "    <tr>\n",
       "      <th>39109</th>\n",
       "      <td>4565370</td>\n",
       "      <td>48111514</td>\n",
       "      <td>2015-09-23</td>\n",
       "      <td>41624164</td>\n",
       "      <td>Serge</td>\n",
       "      <td>B&amp;B agréable et bien placé, rapidement au cent...</td>\n",
       "      <td>fr</td>\n",
       "    </tr>\n",
       "    <tr>\n",
       "      <th>72173</th>\n",
       "      <td>2391699</td>\n",
       "      <td>23263169</td>\n",
       "      <td>2014-11-27</td>\n",
       "      <td>3278100</td>\n",
       "      <td>Luis Gustavo</td>\n",
       "      <td>Sandy foi incrível, o local é espetacular, Jac...</td>\n",
       "      <td>pt</td>\n",
       "    </tr>\n",
       "    <tr>\n",
       "      <th>40614</th>\n",
       "      <td>2489283</td>\n",
       "      <td>19519679</td>\n",
       "      <td>2014-09-14</td>\n",
       "      <td>14367966</td>\n",
       "      <td>Ana Beatriz</td>\n",
       "      <td>O período no apartamento foi absolutamente PER...</td>\n",
       "      <td>pt</td>\n",
       "    </tr>\n",
       "    <tr>\n",
       "      <th>9927</th>\n",
       "      <td>3626162</td>\n",
       "      <td>31984707</td>\n",
       "      <td>2015-05-12</td>\n",
       "      <td>26405720</td>\n",
       "      <td>Xiaoyi</td>\n",
       "      <td>Elizabeth一家人真是非常好，非常友善的一家人，她家地理位置各方面都非常舒服。我像回到...</td>\n",
       "      <td>zh-cn</td>\n",
       "    </tr>\n",
       "    <tr>\n",
       "      <th>35788</th>\n",
       "      <td>4105164</td>\n",
       "      <td>55475072</td>\n",
       "      <td>2015-12-01</td>\n",
       "      <td>48835796</td>\n",
       "      <td>Funny</td>\n",
       "      <td>THANK YOU!Harry！\\n他是个非常好的房东，初到西雅图气温只有1°左右，当见到H...</td>\n",
       "      <td>zh-cn</td>\n",
       "    </tr>\n",
       "  </tbody>\n",
       "</table>\n",
       "</div>"
      ],
      "text/plain": [
       "       listing_id        id        date  reviewer_id reviewer_name  \\\n",
       "39109     4565370  48111514  2015-09-23     41624164         Serge   \n",
       "72173     2391699  23263169  2014-11-27      3278100  Luis Gustavo   \n",
       "40614     2489283  19519679  2014-09-14     14367966   Ana Beatriz   \n",
       "9927      3626162  31984707  2015-05-12     26405720        Xiaoyi   \n",
       "35788     4105164  55475072  2015-12-01     48835796         Funny   \n",
       "\n",
       "                                                comments English  \n",
       "39109  B&B agréable et bien placé, rapidement au cent...      fr  \n",
       "72173  Sandy foi incrível, o local é espetacular, Jac...      pt  \n",
       "40614  O período no apartamento foi absolutamente PER...      pt  \n",
       "9927   Elizabeth一家人真是非常好，非常友善的一家人，她家地理位置各方面都非常舒服。我像回到...   zh-cn  \n",
       "35788  THANK YOU!Harry！\\n他是个非常好的房东，初到西雅图气温只有1°左右，当见到H...   zh-cn  "
      ]
     },
     "execution_count": 6,
     "metadata": {},
     "output_type": "execute_result"
    }
   ],
   "source": [
    "# There are non-english reviews\n",
    "# This function is too slow in processing large datasets -> Use langdetect library instead\n",
    "def lang_detect(text):\n",
    "    english_vocab = set(w.lower() for w in nltk.corpus.words.words())\n",
    "    text_vocab = set(w.lower() for w in text if w.isalpha())\n",
    "    return len(text_vocab.difference(english_vocab)) == 0\n",
    "\n",
    "# Langdetect library can be quite inaccurate when the comment is short. But we already removed short comments\n",
    "reviews[\"English\"] = reviews['comments'].map(detect)\n",
    "reviews[reviews['English'] != 'en'].sample(5)"
   ]
  },
  {
   "cell_type": "code",
   "execution_count": 8,
   "metadata": {},
   "outputs": [],
   "source": [
    "# Drop all non-enlish reviews\n",
    "reviews.drop(reviews[reviews['English'] != 'en'].index, inplace=True)"
   ]
  },
  {
   "cell_type": "markdown",
   "metadata": {},
   "source": [
    "## Sentiment Analysis using VADER\n",
    "- VADER library is used for valence-based sentiment analysis where the intensity of the sentiment is taken into account. For example, the word ‘excellent’ would be treated as more positive than ‘good’\n",
    "- VADER works based on its lexicon where each positive or negative word is assigned with a rating\n",
    "- Given a text, it generates negative, neutral, positive and compound scores.\n",
    "- Compound score is the most accurate reflection of the sentiment of a review\n",
    "    - It is a sum of all the 3 other scores which has a value between -1 and 1.\n",
    "    - 1 being very positive\n",
    "    - -1 being very negative\n",
    "- Reference: http://t-redactyl.io/blog/2017/04/using-vader-to-handle-sentiment-analysis-with-social-media-text.html"
   ]
  },
  {
   "cell_type": "code",
   "execution_count": 24,
   "metadata": {},
   "outputs": [
    {
     "name": "stdout",
     "output_type": "stream",
     "text": [
      "This was my 1st AirBnb experience and Scooter definitely set the bar high. He was a great host and had everything ready when my fiancé and I arrived.  Scooter was helpful throughout the booking process and even when we met.  Also he has a very friendly and cute dog named Bart. \n",
      "\n",
      "The location was great.  A 2min walk to nearby restaurants and 10min drive to downtown.   Parking was  easy to find, especially with the parking passed provided by Scooter.  The studio itself was clean and spacious. We definitely recommend this place and would come back if we are ever in the area.\n",
      "\n",
      " \n",
      "{'neg': 0.0, 'neu': 0.72, 'pos': 0.28, 'compound': 0.9858}, \n",
      "\n",
      "Amy was great to deal with - kind, prompt to respond, and very welcoming.  The apartment is in a great location, near many great restaurants and bars.  And, as mentioned, the views really are great from the living / dining area.  The only word of caution would be for someone who struggles with stairs -- the bedroom is separated from the living / dining / bathroom by a fairly steep flight of stairs.  All in all, though, a fantastic space and really top-notch hosts.\n",
      "{'neg': 0.025, 'neu': 0.703, 'pos': 0.271, 'compound': 0.9778}, \n",
      "\n",
      "Our host was very welcoming. The room and bathroom were very clean. The bed was surprisingly very cozy. Their pets were also very affectionate and entertaining. The neighbourhood was a bit difficult to find parking close to the actual place, but not too bad of a walk. Overall, I'd stay again if I'm in the Seattle area.\n",
      "{'neg': 0.028, 'neu': 0.757, 'pos': 0.215, 'compound': 0.8719}, \n",
      "\n"
     ]
    }
   ],
   "source": [
    "# Sample sentiment score for 3 comments\n",
    "senti_analyzer = SentimentIntensityAnalyzer()\n",
    "for sentence in reviews['comments'].sample(3):\n",
    "    score = senti_analyzer.polarity_scores(sentence)\n",
    "    print('{}\\n{}, '.format(sentence, str(score)), end='\\n\\n')"
   ]
  },
  {
   "cell_type": "markdown",
   "metadata": {},
   "source": [
    "- VADER did a faily good job in capturing the sentiment of the comment, both positive and negative\n",
    "- The intensity is also reflected in the score. So a really good review with stronger emotions will have higher compound score\n",
    "- So if an listing has a higher mean sentiment score, means its reviews are generally more postive and reviewers are more happy with the stay"
   ]
  },
  {
   "cell_type": "code",
   "execution_count": 25,
   "metadata": {},
   "outputs": [],
   "source": [
    "def gen_senti_score(comment):\n",
    "    senti_analyzer = SentimentIntensityAnalyzer()\n",
    "    score = senti_analyzer.polarity_scores(comment)\n",
    "    return score['compound']\n",
    "\n",
    "reviews['review_senti_score'] = reviews['comments'].map(gen_senti_score)"
   ]
  },
  {
   "cell_type": "code",
   "execution_count": 26,
   "metadata": {},
   "outputs": [
    {
     "data": {
      "text/plain": [
       "3008"
      ]
     },
     "execution_count": 26,
     "metadata": {},
     "output_type": "execute_result"
    }
   ],
   "source": [
    "# Generate mean score for each listing ID\n",
    "listing_review_score = reviews.groupby(['listing_id'])['review_senti_score'].mean()\n",
    "len(listing_review_score)"
   ]
  },
  {
   "cell_type": "code",
   "execution_count": 27,
   "metadata": {},
   "outputs": [
    {
     "data": {
      "text/plain": [
       "810"
      ]
     },
     "execution_count": 27,
     "metadata": {},
     "output_type": "execute_result"
    }
   ],
   "source": [
    "# Merge the senti_score with Airbnb listings\n",
    "senti_score = pd.Series.to_frame(listing_review_score)\n",
    "senti_score['id'] = list(senti_score.index)\n",
    "airbnbs = airbnbs.merge(senti_score, on='id', how='left')\n",
    "airbnbs['review_senti_score'].isnull().sum()"
   ]
  },
  {
   "cell_type": "markdown",
   "metadata": {},
   "source": [
    "- Although some of our listings do not have a review sentiment score, it is okay for demonstration\n",
    "- Since we cut down on the number of reviews above drastically for faster processing, if all reviews were processed, given the 84849 number of reviews, very likely almost all listing will have a score generated."
   ]
  },
  {
   "cell_type": "code",
   "execution_count": 28,
   "metadata": {},
   "outputs": [],
   "source": [
    "# Fill listings with no review sentiment score with 0\n",
    "airbnbs['review_senti_score'].fillna(0, inplace=True)"
   ]
  },
  {
   "cell_type": "code",
   "execution_count": 29,
   "metadata": {},
   "outputs": [],
   "source": [
    "# Export the new Airbnb dataset for recommendation\n",
    "airbnbs.to_csv(\"listings_review_sent_score.csv\", index=False)"
   ]
  },
  {
   "cell_type": "code",
   "execution_count": 30,
   "metadata": {},
   "outputs": [],
   "source": [
    "# Export the processed review dataset too for identifying top bigrams from recommended listing's reviews\n",
    "reviews.to_csv(\"reviews_processed.csv\", index=False)"
   ]
  }
 ],
 "metadata": {
  "kernelspec": {
   "display_name": "Python 3",
   "language": "python",
   "name": "python3"
  },
  "language_info": {
   "codemirror_mode": {
    "name": "ipython",
    "version": 3
   },
   "file_extension": ".py",
   "mimetype": "text/x-python",
   "name": "python",
   "nbconvert_exporter": "python",
   "pygments_lexer": "ipython3",
   "version": "3.6.6"
  }
 },
 "nbformat": 4,
 "nbformat_minor": 2
}
