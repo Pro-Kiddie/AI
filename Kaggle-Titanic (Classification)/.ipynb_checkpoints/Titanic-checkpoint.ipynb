{
 "cells": [
  {
   "cell_type": "markdown",
   "metadata": {},
   "source": [
    "## Name: Yang Anlin\n",
    "## Admin No: P1726992\n",
    "## Class: DISM/FT/2B/01\n",
    "<hr>"
   ]
  },
  {
   "cell_type": "markdown",
   "metadata": {},
   "source": [
    "# Titanic: Machine Learning From Disaster\n",
    "\n",
    "## Content\n",
    "- 1. Problem Statement\n",
    "- 2. Getting Familar with The Data\n",
    "- 3. Exploratory Data Analysis (EDA)\n",
    "- 4. Impute Missing Values\n",
    "- 5. Feature Engineering\n",
    "- 6. Feature Encoding\n",
    "- 7. Modelling\n",
    "- 8. Evaluation of Model\n",
    "- 9. Kaggle Submission\n",
    "- 10. Conclusion\n",
    "\n",
    "# 1. Problem Statement\n",
    "\n",
    "- **Build a classification model to predict if a passenger survived or died.**\n",
    "    - Output Variable is Survived; 1 means Survived, 0 means Dead\n",
    "\n",
    "#### Regression V.S Classification\n",
    "- Regression means to predict the output values which are continuous.\n",
    "- Classification means to group the output into a class.\n",
    "\n",
    "### Data Dictionary\n",
    "- Survived: 0 = No, 1 = Yes\n",
    "- Pclass: Ticket class (1 = 1st Class, 2 = 2nd Class, 3 = 3rd Class)\n",
    "- Sibsp: No of siblings / spouses aboard the Titanic\n",
    "- Parch: No of parents / children aboard the Titanic\n",
    "- Ticket: Ticket number\n",
    "- Cabin: Cabin number\n",
    "- Embarked: Port of Embarkation C = Cherbourg (France), Q = Queenstown (Ireland), S = Southampton (England)"
   ]
  },
  {
   "cell_type": "markdown",
   "metadata": {},
   "source": [
    "# 2. Getting Familar With The Data"
   ]
  },
  {
   "cell_type": "code",
   "execution_count": 1,
   "metadata": {},
   "outputs": [
    {
     "name": "stdout",
     "output_type": "stream",
     "text": [
      "Train data contains 891 records and 12 variables\n",
      "Test data contains 418 records and 11 variables\n"
     ]
    }
   ],
   "source": [
    "import pandas as pd\n",
    "import warnings\n",
    "warnings.filterwarnings('ignore')\n",
    "\n",
    "train = pd.read_csv('./titanic_train.csv')\n",
    "test = pd.read_csv('./titanic_test.csv')\n",
    "\n",
    "print(\"Train data contains {0[0]} records and {0[1]} variables\".format(train.shape))\n",
    "print(\"Test data contains {0[0]} records and {0[1]} variables\".format(test.shape))"
   ]
  },
  {
   "cell_type": "markdown",
   "metadata": {},
   "source": [
    "#### Comment:\n",
    "- This is a small dataset with 891 rows \n",
    "- Models trained with small dataset tends to overfit\n",
    "- Should build a simple model that generalize features to avoid overfitting\n",
    "- Carry out **Exploratory Data Analysis (EDA)** on **train data set only** \n",
    "    - Train and Test data should not be combined as, in reality, test data will not be available"
   ]
  },
  {
   "cell_type": "code",
   "execution_count": 2,
   "metadata": {},
   "outputs": [
    {
     "data": {
      "text/html": [
       "<div>\n",
       "<style scoped>\n",
       "    .dataframe tbody tr th:only-of-type {\n",
       "        vertical-align: middle;\n",
       "    }\n",
       "\n",
       "    .dataframe tbody tr th {\n",
       "        vertical-align: top;\n",
       "    }\n",
       "\n",
       "    .dataframe thead th {\n",
       "        text-align: right;\n",
       "    }\n",
       "</style>\n",
       "<table border=\"1\" class=\"dataframe\">\n",
       "  <thead>\n",
       "    <tr style=\"text-align: right;\">\n",
       "      <th></th>\n",
       "      <th>PassengerId</th>\n",
       "      <th>Survived</th>\n",
       "      <th>Pclass</th>\n",
       "      <th>Name</th>\n",
       "      <th>Sex</th>\n",
       "      <th>Age</th>\n",
       "      <th>SibSp</th>\n",
       "      <th>Parch</th>\n",
       "      <th>Ticket</th>\n",
       "      <th>Fare</th>\n",
       "      <th>Cabin</th>\n",
       "      <th>Embarked</th>\n",
       "    </tr>\n",
       "  </thead>\n",
       "  <tbody>\n",
       "    <tr>\n",
       "      <th>0</th>\n",
       "      <td>1</td>\n",
       "      <td>0</td>\n",
       "      <td>3</td>\n",
       "      <td>Braund, Mr. Owen Harris</td>\n",
       "      <td>male</td>\n",
       "      <td>22.0</td>\n",
       "      <td>1</td>\n",
       "      <td>0</td>\n",
       "      <td>A/5 21171</td>\n",
       "      <td>7.2500</td>\n",
       "      <td>NaN</td>\n",
       "      <td>S</td>\n",
       "    </tr>\n",
       "    <tr>\n",
       "      <th>1</th>\n",
       "      <td>2</td>\n",
       "      <td>1</td>\n",
       "      <td>1</td>\n",
       "      <td>Cumings, Mrs. John Bradley (Florence Briggs Th...</td>\n",
       "      <td>female</td>\n",
       "      <td>38.0</td>\n",
       "      <td>1</td>\n",
       "      <td>0</td>\n",
       "      <td>PC 17599</td>\n",
       "      <td>71.2833</td>\n",
       "      <td>C85</td>\n",
       "      <td>C</td>\n",
       "    </tr>\n",
       "    <tr>\n",
       "      <th>2</th>\n",
       "      <td>3</td>\n",
       "      <td>1</td>\n",
       "      <td>3</td>\n",
       "      <td>Heikkinen, Miss. Laina</td>\n",
       "      <td>female</td>\n",
       "      <td>26.0</td>\n",
       "      <td>0</td>\n",
       "      <td>0</td>\n",
       "      <td>STON/O2. 3101282</td>\n",
       "      <td>7.9250</td>\n",
       "      <td>NaN</td>\n",
       "      <td>S</td>\n",
       "    </tr>\n",
       "  </tbody>\n",
       "</table>\n",
       "</div>"
      ],
      "text/plain": [
       "   PassengerId  Survived  Pclass  \\\n",
       "0            1         0       3   \n",
       "1            2         1       1   \n",
       "2            3         1       3   \n",
       "\n",
       "                                                Name     Sex   Age  SibSp  \\\n",
       "0                            Braund, Mr. Owen Harris    male  22.0      1   \n",
       "1  Cumings, Mrs. John Bradley (Florence Briggs Th...  female  38.0      1   \n",
       "2                             Heikkinen, Miss. Laina  female  26.0      0   \n",
       "\n",
       "   Parch            Ticket     Fare Cabin Embarked  \n",
       "0      0         A/5 21171   7.2500   NaN        S  \n",
       "1      0          PC 17599  71.2833   C85        C  \n",
       "2      0  STON/O2. 3101282   7.9250   NaN        S  "
      ]
     },
     "execution_count": 2,
     "metadata": {},
     "output_type": "execute_result"
    }
   ],
   "source": [
    "# Axis=0 is the Column-axis\n",
    "# Axis=1 is the Index-axis\n",
    "\n",
    "# Take a look at the data\n",
    "train.head(3)"
   ]
  },
  {
   "cell_type": "markdown",
   "metadata": {},
   "source": [
    "#### Comment:\n",
    "- Names has a specific format of (Family_Name, Title, Name)\n",
    "- Ticket values seem random"
   ]
  },
  {
   "cell_type": "markdown",
   "metadata": {},
   "source": [
    "## 2.1 Identify Columns With Missing Values"
   ]
  },
  {
   "cell_type": "code",
   "execution_count": 3,
   "metadata": {},
   "outputs": [
    {
     "data": {
      "text/plain": [
       "Cabin       1014.0\n",
       "Age          263.0\n",
       "Embarked       2.0\n",
       "Fare           1.0\n",
       "dtype: float64"
      ]
     },
     "execution_count": 3,
     "metadata": {},
     "output_type": "execute_result"
    }
   ],
   "source": [
    "# Get the total missing values from both Train and Test\n",
    "total_missing = train.isnull().sum() + test.isnull().sum()\n",
    "# Dropna is for Survived column in Test data\n",
    "total_missing.dropna()[total_missing != 0].sort_values(ascending=False)"
   ]
  },
  {
   "cell_type": "markdown",
   "metadata": {},
   "source": [
    "#### Comment:\n",
    "- Columns with missing values are **Age**, **Cabin**, **Embarked** and **Fare**\n",
    "- Cabin has too many missing values\n",
    "    - Dubious if it is going to be a useful feature; may create a lot of noise\n",
    "    - Leave it for now"
   ]
  },
  {
   "cell_type": "markdown",
   "metadata": {},
   "source": [
    "## 2.2 Identify Possible Categorical Columns\n",
    "- Important to identify categorical columns and numeric columns for EDA \n",
    "- Identify categorical columns by the number of unique values"
   ]
  },
  {
   "cell_type": "code",
   "execution_count": 4,
   "metadata": {},
   "outputs": [
    {
     "name": "stdout",
     "output_type": "stream",
     "text": [
      "[('Pclass', 3), ('Sex', 2), ('SibSp', 7), ('Parch', 7), ('Embarked', 3)]\n"
     ]
    }
   ],
   "source": [
    "# Loop through the columns, select column with unique values less than 10 as a possible categorical value\n",
    "cat_cols = []\n",
    "for col in train.columns:\n",
    "    if train[col].nunique() < 10 and col != \"Survived\":\n",
    "        cat_cols.append((col, train[col].nunique()))\n",
    "print(cat_cols)"
   ]
  },
  {
   "cell_type": "markdown",
   "metadata": {},
   "source": [
    "#### Comment:\n",
    "- Categorical Columns: *Sex, Pclass, SibSp, Parch, Embarked*"
   ]
  },
  {
   "cell_type": "code",
   "execution_count": 5,
   "metadata": {},
   "outputs": [
    {
     "data": {
      "text/plain": [
       "21     D56\n",
       "462    E63\n",
       "430    C52\n",
       "Name: Cabin, dtype: object"
      ]
     },
     "execution_count": 5,
     "metadata": {},
     "output_type": "execute_result"
    }
   ],
   "source": [
    "# Examine the Cabin Column \n",
    "train['Cabin'].dropna().sample(3)"
   ]
  },
  {
   "cell_type": "markdown",
   "metadata": {},
   "source": [
    "#### Comment:\n",
    "- After researching, I found out that the **first letter of Cabin actually identifies the deck level of Titanic that the Cabin was located as shown in the diagram below**\n",
    "    - We can **feature engineer a \"Deck\" column from Cabin** to indicate the deck level of the passenger\n",
    "    - It is an logical assumption that passenger at higher deck is more likely to survivie\n",
    "    - Reference: https://www.kaggle.com/c/titanic/discussion/4693\n",
    "<div>\n",
    "    <img src=\"Titanic_Cabin_Deck.png\" width=344 height=512 style=\"float: left;\">\n",
    "</div>"
   ]
  },
  {
   "cell_type": "code",
   "execution_count": 6,
   "metadata": {},
   "outputs": [
    {
     "name": "stdout",
     "output_type": "stream",
     "text": [
      "Unique Values for Ticket column: 681\n"
     ]
    },
    {
     "data": {
      "text/plain": [
       "771    350047\n",
       "873    345765\n",
       "335    349225\n",
       "Name: Ticket, dtype: object"
      ]
     },
     "execution_count": 6,
     "metadata": {},
     "output_type": "execute_result"
    }
   ],
   "source": [
    "# Examine Tickets\n",
    "print(\"Unique Values for Ticket column:\", train['Ticket'].nunique())\n",
    "train['Ticket'].sample(3)"
   ]
  },
  {
   "cell_type": "markdown",
   "metadata": {},
   "source": [
    "#### Comment:\n",
    "- Ticket column has way too many unique values. Might be a possible categorical columns\n",
    "- Numerical Columns: *Fare, Age*\n",
    "- Nominal Categorical Columns: *Name*"
   ]
  },
  {
   "cell_type": "markdown",
   "metadata": {},
   "source": [
    "# 3. Exploratory Data Analysis (EDA) \n",
    "- No assumptions should be made from Test Data\n",
    "- All EDA are done from Train Data only\n",
    "## 3.1 Feature Engineer \"Deck\" Column"
   ]
  },
  {
   "cell_type": "code",
   "execution_count": 7,
   "metadata": {},
   "outputs": [
    {
     "data": {
      "text/plain": [
       "691    No_Cabin\n",
       "10            G\n",
       "574    No_Cabin\n",
       "Name: Deck, dtype: object"
      ]
     },
     "execution_count": 7,
     "metadata": {},
     "output_type": "execute_result"
    }
   ],
   "source": [
    "# Cabin values has a format of \"([A-Z])+(\\d)*\"\n",
    "# Extract the first letter of to create a Deck feature to analysis the relationship of Deck with Survival\n",
    "# Replace missing values of Cabin with \"No_Cabin\" \n",
    "import re\n",
    "\n",
    "def parse_Cabin (cabin):\n",
    "    if type(cabin) == str:\n",
    "        pattern = re.compile(r\"([A-Z])+\")\n",
    "        matches = pattern.search(cabin)\n",
    "        return matches.group(1) #Return the first letter only\n",
    "    else: #np.nan values has a type float\n",
    "        return \"No_Cabin\"\n",
    "\n",
    "train[\"Deck\"] = train[\"Cabin\"].map(parse_Cabin)\n",
    "# Drop Cabin as it is converted to Deck already\n",
    "train.drop(['Cabin'], axis=1, inplace=True)\n",
    "\n",
    "test[\"Deck\"] = test[\"Cabin\"].map(parse_Cabin)\n",
    "test.drop(['Cabin'], axis=1, inplace=True)\n",
    "\n",
    "train['Deck'].sample(3)"
   ]
  },
  {
   "cell_type": "markdown",
   "metadata": {},
   "source": [
    "## 3.2 Analyse Data Distribution"
   ]
  },
  {
   "cell_type": "code",
   "execution_count": 8,
   "metadata": {},
   "outputs": [
    {
     "data": {
      "text/plain": [
       "<matplotlib.axes._subplots.AxesSubplot at 0x1d8b7384080>"
      ]
     },
     "execution_count": 8,
     "metadata": {},
     "output_type": "execute_result"
    },
    {
     "data": {
      "image/png": "[encoded data removed]",
      "text/plain": [
       "<matplotlib.figure.Figure at 0x1d8b233ae10>"
      ]
     },
     "metadata": {
      "needs_background": "light"
     },
     "output_type": "display_data"
    }
   ],
   "source": [
    "import matplotlib.pyplot as plt\n",
    "import seaborn as sns\n",
    "\n",
    "#Make the graphs generated by matplotlib appear instead of object\n",
    "%matplotlib inline\n",
    "\n",
    "# Plot Categorical Features\n",
    "cat_cols = ['Pclass','Sex','SibSp','Parch','Embarked','Deck']\n",
    "fig, axs = plt.subplots(4,3, figsize=(15,12))\n",
    "for i,key in enumerate(cat_cols):\n",
    "    sns.countplot(key, data=train, ax=axs[i//3, i%3])\n",
    "# Embarked and Survived contains missing values. It is okay. Missing values will be ignored when plotting graph\n",
    "\n",
    "# PLot Numeric Features\n",
    "# Plot Age\n",
    "# Still the same figure of (4,3), move the cursor to (2,0)\n",
    "plt.subplot2grid((4,3),(2,0), rowspan=1, colspan=3)\n",
    "\n",
    "# data.Age.value_counts().sort_index() - Identify the min and max age for bins argument in graph\n",
    "# bins define the range of the X axis\n",
    "sns.distplot(train.Age.dropna(), bins=range(0,80,2), kde=False)\n",
    "\n",
    "# Plot Fare\n",
    "plt.subplot2grid((4,3),(3,0), rowspan=1, colspan=3)\n",
    "# data['Fare'].max() & data['Fare'].min() \n",
    "sns.distplot(train.Fare.dropna(), bins=80, kde=False)"
   ]
  },
  {
   "cell_type": "markdown",
   "metadata": {},
   "source": [
    "#### Comment:\n",
    "- **Pclass** - Most people are in **3rd class**\n",
    "<hr>\n",
    "- **Sex** - More **male** passengers\n",
    "<hr>\n",
    "- **SibSp & Parch** - Most people are **travelling alone**\n",
    "    - Can possibly **combine SibSp and Parch** to a new feature to indicate passenger travelling with **\"Family\"** \n",
    "    - **Families are likely to stay together during disaster**\n",
    "    <hr>\n",
    "- **Embarked** - Most people embarked from **Southampton (England)**\n",
    "<hr>\n",
    "- **Deck** - Most people have **No Cabin**\n",
    "<hr>\n",
    "- **Age** - Bulk of the passengers are in their **20s, 30s, and 40s**\n",
    "<hr>\n",
    "- **Fare** - Graph looks strange; should have **3 peaks**, signifying different **3 classes**\n",
    "    - The first peak is the people from 3rd class\n",
    "    - But the **peaks for 1st and 2nd class are not clear** "
   ]
  },
  {
   "cell_type": "markdown",
   "metadata": {},
   "source": [
    "## 3.3 Analyze The Relationship Between Features and Survival Rate\n",
    "- Calculate the average survival rate"
   ]
  },
  {
   "cell_type": "code",
   "execution_count": 9,
   "metadata": {},
   "outputs": [
    {
     "name": "stdout",
     "output_type": "stream",
     "text": [
      "Average Survival Rate Of A Passenger: 38.38%\n"
     ]
    }
   ],
   "source": [
    "avg_survival = train['Survived'].mean() * 100\n",
    "print(\"Average Survival Rate Of A Passenger: {:.2f}%\".format(avg_survival))"
   ]
  },
  {
   "cell_type": "code",
   "execution_count": 10,
   "metadata": {},
   "outputs": [
    {
     "data": {
      "text/plain": [
       "<matplotlib.legend.Legend at 0x1d8b8500208>"
      ]
     },
     "execution_count": 10,
     "metadata": {},
     "output_type": "execute_result"
    },
    {
     "data": {
      "image/png": "[encoded data removed]",
      "text/plain": [
       "<matplotlib.figure.Figure at 0x1d8b7300160>"
      ]
     },
     "metadata": {
      "needs_background": "light"
     },
     "output_type": "display_data"
    }
   ],
   "source": [
    "f, axs = plt.subplots(5, 3, sharey=True, figsize=(15,12))\n",
    "\n",
    "plt.subplots_adjust(hspace=0.5)\n",
    "\n",
    "# Plot categorical columns\n",
    "for i, key in enumerate(cat_cols):\n",
    "    plt.subplot2grid((5,3),(i//3, i%3))\n",
    "    sns.barplot(data=train, x=key, y='Survived', color='green')\n",
    "    # Plot a horizontal line to indicate the average survival rate\n",
    "    plt.axhline(y=0.3838, color='k', linestyle='--')\n",
    "\n",
    "# Plot Age\n",
    "plt.subplot2grid((5,3), (2,0), rowspan=1, colspan=3)\n",
    "for x in [0,1]:\n",
    "    train.Age[train.Survived == x].plot(kind='kde', xlim=(0,80))\n",
    "plt.title(\"Survivied wrt Age\")\n",
    "plt.legend(('Died', 'Survived'))\n",
    "\n",
    "# Plot Fare\n",
    "plt.subplot2grid((5,3), (3,0), rowspan=1, colspan=3)\n",
    "for x in [0,1]:\n",
    "    train.Fare[train.Survived == x].plot(kind='kde', xlim=(0,530))\n",
    "plt.title(\"Survivied wrt Fare\")\n",
    "plt.legend(('Died', 'Survived'))\n",
    "\n",
    "# Plot PassengerID\n",
    "# Maybe people with smaller Id board the ship first and at lower decks?\n",
    "plt.subplot2grid((5,3), (4,0), rowspan=1, colspan=3)\n",
    "for x in [0,1]:\n",
    "    train.PassengerId[train.Survived == x].plot(kind='kde', xlim=(0,891))\n",
    "plt.title(\"Survivied wrt PassengerID\")\n",
    "plt.legend(('Died', 'Survived'))"
   ]
  },
  {
   "cell_type": "markdown",
   "metadata": {},
   "source": [
    "#### Comment:\n",
    "- **PClass** - **The higher your class, the more survival rate**\n",
    "    - The richer you are, the more survival rate\n",
    "<hr>\n",
    "- **Sex** - **Females are more likely to survive**\n",
    "<hr>\n",
    "- **SibSp & Parch** - Does not really show any trend. \n",
    "    - Seem like when you have 2 to 3 family members on board, you have higher survival rate\n",
    "    - Should **make a Family_Size feature and compare the survival rate** again\n",
    "    <hr>\n",
    "- **Embarked** - Embarked **on Cherbourg (France) have higher survival rate**\n",
    "    - Maybe people from Cherbourg are richer or more female passengers\n",
    "    - However, by logical thinking, where you board the ship should not have anything to do with your survival rate\n",
    "    <hr>\n",
    "- **Deck** - People with **no cabin has survival rate below average**\n",
    "    - The **lowest deck G and highest deck A has the same survival rate** -> Does not make sense\n",
    "    <hr>\n",
    "- **Age** - **Children who are about 13 years old and younger are more likely to survive**\n",
    "    - People who are **between the age of 13 and 30 are more likely to die**\n",
    "    <hr>\n",
    "- **Fare** - It seems when your **fare is below a certain price, you are more likely to die**\n",
    "    - Agrees with the Pclass conclusion\n",
    "    <hr>\n",
    "- **PassengerId** - No clear trend \n",
    "    - **Do not include PassengerId as a feature to avoid complex model**"
   ]
  },
  {
   "cell_type": "markdown",
   "metadata": {},
   "source": [
    "## 3.4 Engineer Family_Size Column"
   ]
  },
  {
   "cell_type": "code",
   "execution_count": 11,
   "metadata": {},
   "outputs": [
    {
     "data": {
      "image/png": "[encoded data removed]",
      "text/plain": [
       "<matplotlib.figure.Figure at 0x1d8b43d81d0>"
      ]
     },
     "metadata": {
      "needs_background": "light"
     },
     "output_type": "display_data"
    }
   ],
   "source": [
    "train.set_index('PassengerId', drop=False, inplace=True)\n",
    "test.set_index('PassengerId', drop=False, inplace=True)\n",
    "\n",
    "# Plot Family_Size\n",
    "train['Family_Size'] = train['Parch'] + train['SibSp'] + 1\n",
    "sns.barplot(data=train, x='Family_Size', y='Survived', color='green')\n",
    "plt.axhline(y=0.3838, color='k', linestyle='--')\n",
    "\n",
    "test['Family_Size'] = test['Parch'] + test['SibSp'] + 1 "
   ]
  },
  {
   "cell_type": "markdown",
   "metadata": {},
   "source": [
    "#### Comment:\n",
    "- People with **family size 2,3,4 have higher survival rate**\n",
    "- A feature that should be considered "
   ]
  },
  {
   "cell_type": "markdown",
   "metadata": {},
   "source": [
    "## 3.5 Features With Conclusive Predictive Power for now\n",
    "- **Pclass, Sex, Family_Size**"
   ]
  },
  {
   "cell_type": "code",
   "execution_count": 12,
   "metadata": {},
   "outputs": [],
   "source": [
    "features = ['Pclass', 'Sex', 'Family_Size']"
   ]
  },
  {
   "cell_type": "markdown",
   "metadata": {},
   "source": [
    "# 4. Impute Missing Values\n",
    "\n",
    "## 4.1 Age\n",
    "- Filling the missing ages with the **mean/median age** of all passengers is very **inaccurate**\n",
    "    - As from EDA, we know the mean age is about 30 years old and that age group has a low survival rate\n",
    "    - On the other hand, a child will have high survival rate\n",
    "    - If you impute a child's missing age with mean age, the prediction is likely to be wrong\n",
    "- Therefore, the **Title** (Mr, Mrs, Miss, Master, Col and etc) in **passenger's name** can provide us some **clue with his or her age** \n",
    "    - E.g. Master is the title for young boy\n",
    "    - E.g. Don and Jonkheer is for royalty\n",
    "    - E.g. Capt, Col and Major are for Officers\n",
    "    <br>(Reference: Goolge)"
   ]
  },
  {
   "cell_type": "markdown",
   "metadata": {},
   "source": [
    "### 4.1.1 Feature Engineer Title Column"
   ]
  },
  {
   "cell_type": "code",
   "execution_count": 13,
   "metadata": {},
   "outputs": [
    {
     "data": {
      "text/plain": [
       "Mr          517\n",
       "Miss        182\n",
       "Mrs         125\n",
       "Master       40\n",
       "Dr            7\n",
       "Rev           6\n",
       "Mlle          2\n",
       "Major         2\n",
       "Col           2\n",
       "Jonkheer      1\n",
       "Sir           1\n",
       "Countess      1\n",
       "Lady          1\n",
       "Don           1\n",
       "Capt          1\n",
       "Mme           1\n",
       "Ms            1\n",
       "Name: Title, dtype: int64"
      ]
     },
     "execution_count": 13,
     "metadata": {},
     "output_type": "execute_result"
    }
   ],
   "source": [
    "# Sample name: Heikkinen, Miss. Laina\n",
    "# Title is always a word followed by a dot - Regex: (\\w+)\\.\n",
    "def parse_title(name):\n",
    "    pattern = re.compile(r\"(\\w+)\\.\")\n",
    "    match = pattern.search(name)\n",
    "    if match != None:\n",
    "        return match.group(1)\n",
    "    else: # In case regex fails\n",
    "        return \"X\"\n",
    "\n",
    "train['Title'] = train['Name'].map(parse_title)\n",
    "test['Title'] = test['Name'].map(parse_title)\n",
    "\n",
    "train['Title'].value_counts()"
   ]
  },
  {
   "cell_type": "code",
   "execution_count": 14,
   "metadata": {},
   "outputs": [
    {
     "data": {
      "text/plain": [
       "<matplotlib.axes._subplots.AxesSubplot at 0x1d8b7269a20>"
      ]
     },
     "execution_count": 14,
     "metadata": {},
     "output_type": "execute_result"
    },
    {
     "data": {
      "image/png": "[encoded data removed]",
      "text/plain": [
       "<matplotlib.figure.Figure at 0x1d8b73849b0>"
      ]
     },
     "metadata": {
      "needs_background": "light"
     },
     "output_type": "display_data"
    }
   ],
   "source": [
    "# Simplify the titles and group them into Mr, Mrs, Miss, Master, Royalty, Officer\n",
    "dict_Title = {\"Capt\":\"Officer\",\n",
    "              \"Col\":\"Officer\",\n",
    "              \"Major\":\"Officer\",\n",
    "              \"Jonkheer\":\"Royalty\",\n",
    "              \"Don\":\"Royalty\",\n",
    "              \"Sir\":\"Royalty\",\n",
    "              \"Dr\":\"Officer\",\n",
    "              \"Rev\":\"Officer\",\n",
    "              \"Countess\":\"Royalty\",\n",
    "              \"Dona\":\"Royalty\",\n",
    "              \"Mme\":\"Mrs\",\n",
    "              \"Mlle\":\"Miss\",\n",
    "              \"Ms\":\"Mrs\",\n",
    "              \"Mr\":\"Mr\",\n",
    "              \"Mrs\":\"Mrs\",\n",
    "              \"Miss\":\"Miss\",\n",
    "              \"Master\":\"Master\",\n",
    "              \"Lady\":\"Royalty\"}\n",
    "\n",
    "train['Title'] = train['Title'].map(dict_Title) \n",
    "test['Title'] = test['Title'].map(dict_Title) \n",
    "\n",
    "# Plot the distribution of Age by Title\n",
    "plt.figure(figsize = (15,6))\n",
    "sns.violinplot(x=train['Title'], y=train['Age'])"
   ]
  },
  {
   "cell_type": "markdown",
   "metadata": {},
   "source": [
    "#### Comment:\n",
    "- In this way, we can get a relatively **more accurate impute of the missing ages**\n",
    "    - E.g.  Master who are little boys will get imputed with median age (around 12) within Master group rather than the median of all passengers\n",
    "    - Miss includes little girls too, but imputing with inaccurate age is fine in this case as female kids are very likely to survive"
   ]
  },
  {
   "cell_type": "markdown",
   "metadata": {},
   "source": [
    "### 4.1.2 Relationship Between Title and Survival"
   ]
  },
  {
   "cell_type": "code",
   "execution_count": 15,
   "metadata": {},
   "outputs": [
    {
     "data": {
      "text/plain": [
       "<matplotlib.lines.Line2D at 0x1d8b70635c0>"
      ]
     },
     "execution_count": 15,
     "metadata": {},
     "output_type": "execute_result"
    },
    {
     "data": {
      "image/png": "[encoded data removed]",
      "text/plain": [
       "<matplotlib.figure.Figure at 0x1d8b70f2470>"
      ]
     },
     "metadata": {
      "needs_background": "light"
     },
     "output_type": "display_data"
    }
   ],
   "source": [
    "# Check the relationship between title and survival\n",
    "sns.barplot(data=train, x='Title', y='Survived')\n",
    "plt.axhline(y=0.3838, color='k', linestyle='--')"
   ]
  },
  {
   "cell_type": "markdown",
   "metadata": {},
   "source": [
    "#### Comment:\n",
    "- Title actually shows decent predicting power \n",
    "    - Mrs, Miss, Master and Royalty have high survival rate\n",
    "- Title can be one of the final features\n",
    "    - Can try to include and remove and compare the score\n",
    "    - **Tried with and without this feature, score is better without this feature**"
   ]
  },
  {
   "cell_type": "markdown",
   "metadata": {},
   "source": [
    "### 4.1.3 Impute Missing Values for Age according to Title"
   ]
  },
  {
   "cell_type": "code",
   "execution_count": 16,
   "metadata": {},
   "outputs": [
    {
     "data": {
      "text/plain": [
       "0"
      ]
     },
     "execution_count": 16,
     "metadata": {},
     "output_type": "execute_result"
    }
   ],
   "source": [
    "# Get all unqiue titles using set()\n",
    "titles = list(set(dict_Title.values()))\n",
    "\n",
    "for title in titles:\n",
    "    # Group by title and calculate the median age for each title - train.groupby('Title')['Age'].median()\n",
    "    # Use dict() to turn the Series returned above into a dictionary and access the median age with [title] being the Key\n",
    "    age_to_impute = dict(train.groupby('Title')['Age'].median())[title]\n",
    "    \n",
    "    # Locate the passengers with missing age for the particular title\n",
    "    train.loc[(train['Age'].isnull()) & (train['Title'] == title), 'Age'] = age_to_impute\n",
    "    \n",
    "    # Do the same for Test data\n",
    "    age_to_impute = dict(test.groupby('Title')['Age'].median())[title]\n",
    "    test.loc[(test['Age'].isnull()) & (test['Title'] == title), 'Age'] = age_to_impute\n",
    "    \n",
    "# Check there is no more missing values for Age\n",
    "train['Age'].isnull().values.sum() + test['Age'].isnull().values.sum()"
   ]
  },
  {
   "cell_type": "markdown",
   "metadata": {},
   "source": [
    "## 4.2 Fare\n",
    "- Input missing values for Fare by calculating the mean fare of each Pclass\n",
    "\n",
    "### 4.2.1 Impute Missing Values for Fare"
   ]
  },
  {
   "cell_type": "code",
   "execution_count": 17,
   "metadata": {},
   "outputs": [
    {
     "data": {
      "text/plain": [
       "0"
      ]
     },
     "execution_count": 17,
     "metadata": {},
     "output_type": "execute_result"
    }
   ],
   "source": [
    "# Filling in missing values for Fare\n",
    "\n",
    "# Get the dictionary of each Pclass and its mean Fare value\n",
    "dict_fare_by_class = dict(train.groupby('Pclass')['Fare'].mean())\n",
    "dict_fare_by_class_Test = dict(test.groupby('Pclass')['Fare'].mean())\n",
    "\\\n",
    "# Loop through each Pclass\n",
    "for pClass in dict_fare_by_class.keys():\n",
    "    # Locate the rows with missing Fare values for this particular Pclass\n",
    "    train.loc[train['Fare'].isnull() & (train['Pclass'] == pClass), 'Fare'] = dict_fare_by_class[pClass]\n",
    "    # Do the same for Test\n",
    "    test.loc[test['Fare'].isnull() & (test['Pclass'] == pClass), 'Fare'] = dict_fare_by_class_Test[pClass]\n",
    "    \n",
    "# Check there is no more missing values for Fare\n",
    "train['Fare'].isnull().values.sum() + test['Fare'].isnull().values.sum()"
   ]
  },
  {
   "cell_type": "markdown",
   "metadata": {},
   "source": [
    "## 4.3 Embarked\n",
    "- Since there are only 2 missing values for Embarked, we will impute the most common value in Embarked"
   ]
  },
  {
   "cell_type": "code",
   "execution_count": 18,
   "metadata": {},
   "outputs": [
    {
     "data": {
      "text/plain": [
       "0"
      ]
     },
     "execution_count": 18,
     "metadata": {},
     "output_type": "execute_result"
    }
   ],
   "source": [
    "train['Embarked'].fillna(train['Embarked'].mode()[0], inplace=True)\n",
    "test['Embarked'].fillna(test['Embarked'].mode()[0], inplace=True)\n",
    "\n",
    "# Check if Train and Test data still have missing values\n",
    "train.isnull().values.sum() + test.isnull().values.sum()"
   ]
  },
  {
   "cell_type": "markdown",
   "metadata": {},
   "source": [
    "# 5. Feature Engineering\n",
    "\n",
    "## 5.1 Has_Cabin Feature\n",
    "- From EDA, we know passengers **without cabin have low survival rate**\n",
    "- We can engineer a feature **\"Has_Cabin\" to indicate if a passenger has Cabin or not**"
   ]
  },
  {
   "cell_type": "code",
   "execution_count": 19,
   "metadata": {},
   "outputs": [],
   "source": [
    "def parse_Deck(deck):\n",
    "    if deck == \"No_Cabin\":\n",
    "        return 1\n",
    "    else:\n",
    "        return 0\n",
    "\n",
    "train['Has_Cabin'] = train['Deck'].map(parse_Deck)\n",
    "test['Has_Cabin'] = test['Deck'].map(parse_Deck)\n",
    "\n",
    "#features.append('Has_Cabin')"
   ]
  },
  {
   "cell_type": "markdown",
   "metadata": {},
   "source": [
    "#### Comment:\n",
    "- Include as one of the features, but can **compare score with or without this feature**\n",
    "- **Tried with and without this feature, score is better without this feature**"
   ]
  },
  {
   "cell_type": "markdown",
   "metadata": {},
   "source": [
    "## 5.2 Family Survival\n",
    "- It is logical to assume that **family will stay together during disaster and help one another**\n",
    "- It is likely a **family will survive together or die together**\n",
    "- We can **engineer a Family_Survival feature to indicate if a passenger's family died or survived**\n",
    "\n",
    "### 5.2.1 Hypothesis about Families\n",
    "- People within a **family will have the same lastname**\n",
    "    - However, there can be families with the same lastname\n",
    "- Families are likely to buy tickets together. **Hence, family members will have the same Fare**\n",
    "- So if **passengers have the same Lastname and same Fair, they should be from the same family**"
   ]
  },
  {
   "cell_type": "markdown",
   "metadata": {},
   "source": [
    "### 5.2.2 Test Hypothesis\n",
    "- First, let's check if our hypothesis is correct\n",
    "- **After grouping by Lastname and Fare, if they are the same family, their family size should be the same**"
   ]
  },
  {
   "cell_type": "code",
   "execution_count": 20,
   "metadata": {},
   "outputs": [
    {
     "name": "stdout",
     "output_type": "stream",
     "text": [
      "Percentage of Family Group with Same Lastname and Fare, but has different Family Size = 4.52%\n"
     ]
    }
   ],
   "source": [
    "# Sample name: Heikkinen, Miss. Laina\n",
    "# Extract Lastname from Name - Last name always followed by a comma\n",
    "def parse_lastname(name):\n",
    "    return name.split(\",\")[0]\n",
    "\n",
    "train['Lastname'] = train['Name'].map(parse_lastname)\n",
    "test['Lastname'] = test['Name'].map(parse_lastname)\n",
    "\n",
    "# Extract passengers with family size > 1 and group by Lastname and Fair\n",
    "# Family_Size was calculated by adding Parch + Sibsp + 1 (him/herself)\n",
    "family_df_grpby = train.loc[train['Family_Size'] > 1, ['Lastname', 'Fare', 'Family_Size', 'Survived']].groupby(['Lastname', 'Fare'])\n",
    "\n",
    "# In each Lastname and Fair group dataframe, the number of unique values in Family_Size should only be 1\n",
    "# Get the number of Lastname and Fair groups which have Family_Size unique values more than 1\n",
    "diff_fam = (family_df_grpby['Family_Size'].nunique() != 1).sum()\n",
    "\n",
    "# Calculate the percentage of family groups that does not satisify our hypothesis\n",
    "diff_fam_percentage = (diff_fam / len(family_df_grpby)) * 100\n",
    "\n",
    "print(\"Percentage of Family Group with Same Lastname and Fare, but has different Family Size = {:.2f}%\".format(diff_fam_percentage))"
   ]
  },
  {
   "cell_type": "markdown",
   "metadata": {},
   "source": [
    "#### Comment: \n",
    "- **Only 4.52%** of the family groups **does not fit our hypothesis**\n",
    "- **We can group family by Lastname and Fare**"
   ]
  },
  {
   "cell_type": "markdown",
   "metadata": {},
   "source": [
    "### 5.2.3 Family Survival Rate\n",
    "- Will this feature help our model in predicting the survival?"
   ]
  },
  {
   "cell_type": "code",
   "execution_count": 21,
   "metadata": {},
   "outputs": [
    {
     "name": "stdout",
     "output_type": "stream",
     "text": [
      "Whole family group survived or died: 61.39%\n"
     ]
    }
   ],
   "source": [
    "# family_df_grpby.size() returns the size of each family group after groupby Lastname and Fare\n",
    "family_df = pd.DataFrame(data=family_df_grpby.size(), columns=['Group_Size'])\n",
    "\n",
    "# Compute the total number of people who survived in a family\n",
    "family_df['Total_Survived'] = family_df_grpby['Survived'].sum().astype(int)\n",
    "\n",
    "# Get those family groups with at least 2 family members in Train data\n",
    "family_df = family_df[family_df['Group_Size'] > 1]\n",
    "\n",
    "# When a whole family group survived, the Total_Survived == Group_Size\n",
    "whole_fam_survived = family_df[family_df['Total_Survived'] == family_df['Group_Size']]\n",
    "\n",
    "# When a whole family group died, the Total_Survived == 0\n",
    "whole_fam_died = family_df[family_df['Total_Survived'] == 0]\n",
    "\n",
    "print(\"Whole family group survived or died: {:.2f}%\".format((len(whole_fam_survived) + len(whole_fam_died))/len(family_df)*100))"
   ]
  },
  {
   "cell_type": "markdown",
   "metadata": {},
   "source": [
    "#### Comment:\n",
    "- **61.39% of the family groups survived or died together** -> This means **if a passenger has any of his/her family members survived/died, he/she will likely to survive/die**\n",
    "- Therefore, we can engineer a **Family_Survival** feature to indicate **if a passenger has any family member survived/died**\n",
    "    - Family_Survival will be 1 if any of his/her family survived\n",
    "    - Else, set Family_Survial to 0"
   ]
  },
  {
   "cell_type": "markdown",
   "metadata": {},
   "source": [
    "### 5.2.4 Extract Family_Survival As A Feature\n",
    "- **Must combine Train and Test data to engineer this feature**\n",
    "- This is **alright** because **for any given Test data**, we can engineer this feature by **forming families from Train and Test data** and **calculate Family_Survival based on the survival information we have in Train data**\n",
    "- If the passenger in Test data does not have a family member in Train, will just set Family_Survival to default 0.5"
   ]
  },
  {
   "cell_type": "code",
   "execution_count": 22,
   "metadata": {},
   "outputs": [
    {
     "name": "stdout",
     "output_type": "stream",
     "text": [
      "Number of passengers with Family_Survival: 420\n"
     ]
    }
   ],
   "source": [
    "all_data = pd.concat([train,test], axis=0)\n",
    "\n",
    "DEFAULT_FAM_SURVIVAL_VALUE = 0.5\n",
    "all_data['Family_Survival'] = DEFAULT_FAM_SURVIVAL_VALUE\n",
    "\n",
    "# Loop through all the family groups\n",
    "for grp, grp_df in all_data.groupby(['Lastname', 'Fare']):\n",
    "    if len(grp_df) != 1:\n",
    "        # A Family group is found - 1 or more family member in Train/Test dataset\n",
    "       \n",
    "        # Iterate over each passenger in the family group dataframe\n",
    "        for index, row in grp_df.iterrows(): \n",
    "            # Drop this particular passenger so we do not consider him/her\n",
    "            # Obtain the 'Survived' column in his family group and check if anyone in the family survived/died\n",
    "            smax = grp_df.drop(index)['Survived'].max() # max() should return 1 if anyone survived\n",
    "            smin = grp_df.drop(index)['Survived'].min() # min() should return 0 if anyone died\n",
    "            \n",
    "            # print((smax,smin))\n",
    "            # There will be family groups with all members from Test data\n",
    "            # Their groupby dataframe 'Survived' column will be np.nan\n",
    "            # Both smax & smin will be np.nan\n",
    "            \n",
    "            passID = row['PassengerId']\n",
    "            \n",
    "            # If anyone survived or everybody survived, set Family_Survial to 1\n",
    "            if (smax == 1.0):\n",
    "                all_data.loc[all_data['PassengerId'] == passID, 'Family_Survival'] = 1\n",
    "            \n",
    "            # If no one survived (smax==0) , set Family_Survival to 0\n",
    "            elif (smin == 0.0):\n",
    "                all_data.loc[all_data['PassengerId'] == passID, 'Family_Survival'] = 0\n",
    "            \n",
    "            # Note: If within a family group, there are member who died and member who survived (smax=1, smin=0)\n",
    "            # This function will set his Family_Survival to be 1 by default\n",
    "            \n",
    "            # Both smax & smin = np.nan, Family_Survival cannot be determined - set to default 0.5\n",
    "            else:\n",
    "                all_data.loc[all_data['PassengerId'] == passID, 'Family_Survival'] = 0.5\n",
    "                \n",
    "print(\"Number of passengers with Family_Survival:\", all_data.loc[all_data['Family_Survival'] != 0.5].shape[0])"
   ]
  },
  {
   "cell_type": "markdown",
   "metadata": {},
   "source": [
    "### 5.2.5 Extract Friends Travelling Together & Add To Family_Survival\n",
    "- In addition to family, there are groups of people who have the **same Ticket number** and they pay the **same Fare**\n",
    "    - This means they are **Friends travelling together**\n",
    "    - You **expect them to help one another like a family**\n",
    "- **Extract Friend groups** out and **set Family_Survival if any of his/her friend survived** "
   ]
  },
  {
   "cell_type": "code",
   "execution_count": 23,
   "metadata": {},
   "outputs": [
    {
     "name": "stdout",
     "output_type": "stream",
     "text": [
      "Number of passengers with Family_Survival: 546\n"
     ]
    }
   ],
   "source": [
    "for grp, grp_df in all_data.groupby(['Ticket']):\n",
    "    if len(grp_df) != 1:\n",
    "        for index, row in grp_df.iterrows():\n",
    "            # For the Friend Groups, generate Family_Survival only if: \n",
    "            # No one survived in his Family group - 'Family_Survival' == 0 (Maybe he not staying with his family)\n",
    "            # Family_Survival not set - 'Family_Survival' == 0.5\n",
    "            if (row['Family_Survival'] == 0) or (row['Family_Survival'] == 0.5):\n",
    "                \n",
    "                smax = grp_df.drop(index)['Survived'].max()\n",
    "                smin = grp_df.drop(index)['Survived'].min()\n",
    "                passID = row['PassengerId']\n",
    "                if (smax == 1.0):\n",
    "                    all_data.loc[all_data['PassengerId'] == passID, 'Family_Survival'] = 1\n",
    "                elif (smin == 0.0):\n",
    "                    all_data.loc[all_data['PassengerId'] == passID, 'Family_Survival'] = 0\n",
    "                \n",
    "print(\"Number of passengers with Family_Survival:\", all_data.loc[all_data['Family_Survival'] != 0.5].shape[0])\n",
    "\n",
    "features.append('Family_Survival')"
   ]
  },
  {
   "cell_type": "markdown",
   "metadata": {},
   "source": [
    "# 6. Feature Encoding\n",
    "## 6.1 Age Bins \n",
    "- **Feature Binning is a method of turning continuous variables into categorical values.**\n",
    "- It is generally good to do **binning for continuous numerical feature in Classification Problems** as it prevents overfitting\n",
    "<hr>\n",
    "- From EDA (Section 3.3), we know if a passenger is:\n",
    "    - Age <= 14 - Likely to survive\n",
    "    - 14 < Age <= 30 - Likely to Die\n",
    "    - 30 < Age <= 88 - No clear trend"
   ]
  },
  {
   "cell_type": "code",
   "execution_count": 24,
   "metadata": {},
   "outputs": [],
   "source": [
    "train = all_data[:train.shape[0]]\n",
    "test = all_data[train.shape[0]:].drop(['Survived'], axis=1)\n",
    "\n",
    "# Cut Age into Bins of (0, 14], (14, 30], (30, 88] \n",
    "train['Age'] = pd.cut(train['Age'], [0, 14, 30, 88], labels=['a', 'b', 'c'])\n",
    "test['Age'] = pd.cut(test['Age'], [0, 14, 30, 88], labels=['a', 'b', 'c'])\n",
    "\n",
    "# Encode the Age Bins into Ordinal Categorical Feature\n",
    "train = train.replace({'Age':{'a' : 0, 'b' : 1, 'c' : 2}})\n",
    "test = test.replace({'Age':{'a' : 0, 'b' : 1, 'c' : 2}})\n",
    "\n",
    "features.append('Age')"
   ]
  },
  {
   "cell_type": "markdown",
   "metadata": {},
   "source": [
    "## 6.2 Fare Bins\n",
    "- From EDA, we know if you have Fare < 29 (determined from the graph in Section 3.3), you are likely to die"
   ]
  },
  {
   "cell_type": "code",
   "execution_count": 25,
   "metadata": {},
   "outputs": [
    {
     "name": "stdout",
     "output_type": "stream",
     "text": [
      "Features Selected or Engineered:\n",
      "['Pclass', 'Sex', 'Family_Size', 'Family_Survival', 'Age', 'Fare']\n"
     ]
    }
   ],
   "source": [
    "def encode_Fare(fare):\n",
    "    if fare < 29:\n",
    "        return 0\n",
    "    else: \n",
    "        return 1\n",
    "\n",
    "train['Fare'] = train['Fare'].map(encode_Fare)\n",
    "test['Fare'] = test['Fare'].map(encode_Fare)\n",
    "\n",
    "features.append('Fare')\n",
    "print(\"Features Selected or Engineered:\") \n",
    "print(features)"
   ]
  },
  {
   "cell_type": "code",
   "execution_count": 26,
   "metadata": {},
   "outputs": [
    {
     "data": {
      "text/html": [
       "<div>\n",
       "<style scoped>\n",
       "    .dataframe tbody tr th:only-of-type {\n",
       "        vertical-align: middle;\n",
       "    }\n",
       "\n",
       "    .dataframe tbody tr th {\n",
       "        vertical-align: top;\n",
       "    }\n",
       "\n",
       "    .dataframe thead th {\n",
       "        text-align: right;\n",
       "    }\n",
       "</style>\n",
       "<table border=\"1\" class=\"dataframe\">\n",
       "  <thead>\n",
       "    <tr style=\"text-align: right;\">\n",
       "      <th></th>\n",
       "      <th>Pclass</th>\n",
       "      <th>Sex</th>\n",
       "      <th>Family_Size</th>\n",
       "      <th>Family_Survival</th>\n",
       "      <th>Age</th>\n",
       "      <th>Fare</th>\n",
       "    </tr>\n",
       "    <tr>\n",
       "      <th>PassengerId</th>\n",
       "      <th></th>\n",
       "      <th></th>\n",
       "      <th></th>\n",
       "      <th></th>\n",
       "      <th></th>\n",
       "      <th></th>\n",
       "    </tr>\n",
       "  </thead>\n",
       "  <tbody>\n",
       "    <tr>\n",
       "      <th>1</th>\n",
       "      <td>3</td>\n",
       "      <td>male</td>\n",
       "      <td>2</td>\n",
       "      <td>0.5</td>\n",
       "      <td>1</td>\n",
       "      <td>0</td>\n",
       "    </tr>\n",
       "    <tr>\n",
       "      <th>2</th>\n",
       "      <td>1</td>\n",
       "      <td>female</td>\n",
       "      <td>2</td>\n",
       "      <td>0.5</td>\n",
       "      <td>2</td>\n",
       "      <td>1</td>\n",
       "    </tr>\n",
       "    <tr>\n",
       "      <th>3</th>\n",
       "      <td>3</td>\n",
       "      <td>female</td>\n",
       "      <td>1</td>\n",
       "      <td>0.5</td>\n",
       "      <td>1</td>\n",
       "      <td>0</td>\n",
       "    </tr>\n",
       "  </tbody>\n",
       "</table>\n",
       "</div>"
      ],
      "text/plain": [
       "             Pclass     Sex  Family_Size  Family_Survival  Age  Fare\n",
       "PassengerId                                                         \n",
       "1                 3    male            2              0.5    1     0\n",
       "2                 1  female            2              0.5    2     1\n",
       "3                 3  female            1              0.5    1     0"
      ]
     },
     "execution_count": 26,
     "metadata": {},
     "output_type": "execute_result"
    }
   ],
   "source": [
    "y = train['Survived']\n",
    "train = train[features]\n",
    "test = test[features]\n",
    "\n",
    "train.head(3)"
   ]
  },
  {
   "cell_type": "markdown",
   "metadata": {},
   "source": [
    "## 6.3 Categorical Features Encoding\n",
    "- Sex needs encoding - One-Hot Encoding"
   ]
  },
  {
   "cell_type": "code",
   "execution_count": 27,
   "metadata": {},
   "outputs": [
    {
     "name": "stdout",
     "output_type": "stream",
     "text": [
      "(891, 6)\n",
      "(418, 6)\n"
     ]
    }
   ],
   "source": [
    "train['Sex'] = train['Sex'].apply(lambda x: 1 if x == \"male\" else 0)\n",
    "test['Sex'] = test['Sex'].apply(lambda x: 1 if x == \"male\" else 0)\n",
    "\n",
    "X = train\n",
    "X_test = test\n",
    "print(X.shape)\n",
    "print(X_test.shape)"
   ]
  },
  {
   "cell_type": "markdown",
   "metadata": {},
   "source": [
    "## 6.4 Scaling\n",
    "- StandardSclaer is to remove the outliers in your features \n",
    "- By adjusting the data to have a mean value 0 and standard deviation of 1"
   ]
  },
  {
   "cell_type": "code",
   "execution_count": 28,
   "metadata": {},
   "outputs": [],
   "source": [
    "from sklearn.preprocessing import StandardScaler\n",
    "std_scaler = StandardScaler()\n",
    "\n",
    "# Scale Train and Test data separately\n",
    "# When building model, Test data should not influence the model in anyway\n",
    "X = std_scaler.fit_transform(X)\n",
    "X_test = std_scaler.transform(X_test)"
   ]
  },
  {
   "cell_type": "markdown",
   "metadata": {},
   "source": [
    "# 7. Modelling"
   ]
  },
  {
   "cell_type": "code",
   "execution_count": 29,
   "metadata": {},
   "outputs": [],
   "source": [
    "# Import models\n",
    "from sklearn.neighbors import KNeighborsClassifier\n",
    "from sklearn.tree import DecisionTreeClassifier\n",
    "from sklearn.ensemble import RandomForestClassifier\n",
    "from sklearn.naive_bayes import GaussianNB\n",
    "from sklearn.svm import SVC\n",
    "import numpy as np\n",
    "\n",
    "# Import Cross-Validation for more accuracte scoring of a model\n",
    "from sklearn.model_selection import train_test_split\n",
    "from sklearn.model_selection import KFold\n",
    "from sklearn.model_selection import cross_val_score\n",
    "\n",
    "# Confusion Matrix for evaluation\n",
    "from sklearn.metrics import confusion_matrix"
   ]
  },
  {
   "cell_type": "markdown",
   "metadata": {},
   "source": [
    "## 7.1 Split the Train Data\n",
    "- Just get a few rows of Train Data for evaluation purpose"
   ]
  },
  {
   "cell_type": "code",
   "execution_count": 30,
   "metadata": {},
   "outputs": [
    {
     "name": "stdout",
     "output_type": "stream",
     "text": [
      "(882, 6)\n",
      "(9, 6)\n"
     ]
    }
   ],
   "source": [
    "# Split the train data for evaluation\n",
    "train_X, val_X, train_y, val_y = train_test_split(X, y, random_state = 0, train_size=0.99)\n",
    "print(train_X.shape)\n",
    "print(val_X.shape)"
   ]
  },
  {
   "cell_type": "markdown",
   "metadata": {},
   "source": [
    "## 7.2 Cross-Validation for Model Selection\n",
    "- **Cross-Validation** will give a **fairer score of each model**, given the whole train data is used as test data after holding out each portion"
   ]
  },
  {
   "cell_type": "code",
   "execution_count": 31,
   "metadata": {},
   "outputs": [
    {
     "name": "stdout",
     "output_type": "stream",
     "text": [
      "KNeighborsClassifier scores: 83.21%\n",
      "DecisionTreeClassifier scores: 86.20%\n",
      "RandomForestClassifier scores: 87.69%\n",
      "GaussianNB scores: 86.31%\n",
      "SVC scores: 85.27%\n"
     ]
    }
   ],
   "source": [
    "# KFold specifies the portion size of train data to hold each time while using the rest to train the model\n",
    "k_fold = KFold(n_splits=10, shuffle=True, random_state=0)\n",
    "\n",
    "# Area Under the Curve, the larger the more accurate the model\n",
    "scorer = \"roc_auc\" \n",
    "\n",
    "def select_Model(models):\n",
    "    for index, model in enumerate(models):\n",
    "        score = cross_val_score(model, train_X, train_y, cv=k_fold, scoring=scorer)\n",
    "        print(models[index].__class__.__name__, \"scores: {:.2f}%\".format(score.mean()*100))\n",
    "\n",
    "models = [KNeighborsClassifier(),DecisionTreeClassifier(),RandomForestClassifier(),GaussianNB(),SVC()]\n",
    "\n",
    "select_Model(models)"
   ]
  },
  {
   "cell_type": "markdown",
   "metadata": {},
   "source": [
    "#### Comment:\n",
    "- RandomForestClassifier scores the best without tuning hyperparameters\n",
    "- Use **RandomForestClassifer as the selected model**"
   ]
  },
  {
   "cell_type": "markdown",
   "metadata": {},
   "source": [
    "## 7.3 Model Tuning - Hyperparameters\n",
    "- Tuning parameters using **GridSearch** which will try out different combinations of hyperparameters and get the model that score the highest"
   ]
  },
  {
   "cell_type": "code",
   "execution_count": 32,
   "metadata": {},
   "outputs": [
    {
     "name": "stdout",
     "output_type": "stream",
     "text": [
      "Fitting 10 folds for each of 2 candidates, totalling 20 fits\n"
     ]
    },
    {
     "name": "stderr",
     "output_type": "stream",
     "text": [
      "[Parallel(n_jobs=3)]: Using backend LokyBackend with 3 concurrent workers.\n",
      "[Parallel(n_jobs=3)]: Done  20 out of  20 | elapsed:    4.6s finished\n"
     ]
    },
    {
     "name": "stdout",
     "output_type": "stream",
     "text": [
      "0.888941137608735\n",
      "RandomForestClassifier(bootstrap=True, class_weight=None, criterion='gini',\n",
      "            max_depth=6, max_features='auto', max_leaf_nodes=16,\n",
      "            min_impurity_decrease=0.0, min_impurity_split=None,\n",
      "            min_samples_leaf=3, min_samples_split=2,\n",
      "            min_weight_fraction_leaf=0.0, n_estimators=300, n_jobs=None,\n",
      "            oob_score=False, random_state=3, verbose=0, warm_start=False)\n"
     ]
    }
   ],
   "source": [
    "from sklearn.model_selection import GridSearchCV\n",
    "\n",
    "rfc = RandomForestClassifier(random_state=3)\n",
    "\n",
    "# These are the parameters to be tuned for RandomForest with the available options for each\n",
    "hyperparams = parameters = {'criterion' :['gini', 'entropy'],\n",
    "             'n_estimators' : [300], #list(range(300,400,25))\n",
    "             'max_depth':[6], #list(range(5,8,1))\n",
    "             'min_samples_leaf': [3], #list(range(2,6,1))\n",
    "              'max_leaf_nodes': [16], #list(range(12,17,1))\n",
    "              'max_features' : ['auto'] #['auto','sqrt','log2'] \n",
    "             }\n",
    "\n",
    "# GridSearch\n",
    "gd = GridSearchCV(estimator=rfc, param_grid=hyperparams, cv=k_fold, n_jobs=3, verbose=True, \\\n",
    "                  scoring=scorer)\n",
    "\n",
    "gd.fit(train_X, train_y)\n",
    "print(gd.best_score_)\n",
    "print(gd.best_estimator_)\n",
    "\n",
    "# First Tuning\n",
    "# 0.8812650392418515\n",
    "# RandomForestClassifier(bootstrap=True, class_weight=None, criterion='entropy',\n",
    "           # max_depth=6, max_features='auto', max_leaf_nodes=14,\n",
    "           # min_impurity_decrease=0.0, min_impurity_split=None,\n",
    "           # min_samples_leaf=3, min_samples_split=2,\n",
    "           # min_weight_fraction_leaf=0.0, n_estimators=350, n_jobs=None,\n",
    "           # oob_score=False, random_state=3, verbose=0, warm_start=False)\n",
    "\n",
    "# Second Tuning\n",
    "# 0.8822813559454784\n",
    "# RandomForestClassifier(bootstrap=True, class_weight=None, criterion='entropy',\n",
    "           # max_depth=6, max_features='auto', max_leaf_nodes=16,\n",
    "           # min_impurity_decrease=0.0, min_impurity_split=None,\n",
    "           # min_samples_leaf=3, min_samples_split=2,\n",
    "           # min_weight_fraction_leaf=0.0, n_estimators=300, n_jobs=None,\n",
    "           # oob_score=False, random_state=3, verbose=0, warm_start=False)"
   ]
  },
  {
   "cell_type": "markdown",
   "metadata": {},
   "source": [
    "## 7.4 Make a Prediction using the Tuned Model"
   ]
  },
  {
   "cell_type": "code",
   "execution_count": 33,
   "metadata": {},
   "outputs": [],
   "source": [
    "gd.best_estimator_.fit(train_X, train_y)\n",
    "# Make a prediction on the split train data\n",
    "prediction = gd.best_estimator_.predict(val_X)"
   ]
  },
  {
   "cell_type": "markdown",
   "metadata": {},
   "source": [
    "# 8. Evaluation of the Model"
   ]
  },
  {
   "cell_type": "code",
   "execution_count": 34,
   "metadata": {},
   "outputs": [
    {
     "data": {
      "text/html": [
       "<div>\n",
       "<style scoped>\n",
       "    .dataframe tbody tr th:only-of-type {\n",
       "        vertical-align: middle;\n",
       "    }\n",
       "\n",
       "    .dataframe tbody tr th {\n",
       "        vertical-align: top;\n",
       "    }\n",
       "\n",
       "    .dataframe thead th {\n",
       "        text-align: right;\n",
       "    }\n",
       "</style>\n",
       "<table border=\"1\" class=\"dataframe\">\n",
       "  <thead>\n",
       "    <tr style=\"text-align: right;\">\n",
       "      <th>Predicted</th>\n",
       "      <th>0.0</th>\n",
       "      <th>1.0</th>\n",
       "      <th>All</th>\n",
       "    </tr>\n",
       "    <tr>\n",
       "      <th>True</th>\n",
       "      <th></th>\n",
       "      <th></th>\n",
       "      <th></th>\n",
       "    </tr>\n",
       "  </thead>\n",
       "  <tbody>\n",
       "    <tr>\n",
       "      <th>0.0</th>\n",
       "      <td>3</td>\n",
       "      <td>0</td>\n",
       "      <td>3</td>\n",
       "    </tr>\n",
       "    <tr>\n",
       "      <th>1.0</th>\n",
       "      <td>2</td>\n",
       "      <td>4</td>\n",
       "      <td>6</td>\n",
       "    </tr>\n",
       "    <tr>\n",
       "      <th>All</th>\n",
       "      <td>5</td>\n",
       "      <td>4</td>\n",
       "      <td>9</td>\n",
       "    </tr>\n",
       "  </tbody>\n",
       "</table>\n",
       "</div>"
      ],
      "text/plain": [
       "Predicted  0.0  1.0  All\n",
       "True                    \n",
       "0.0          3    0    3\n",
       "1.0          2    4    6\n",
       "All          5    4    9"
      ]
     },
     "execution_count": 34,
     "metadata": {},
     "output_type": "execute_result"
    }
   ],
   "source": [
    "# Confusion matrix can be used to evaluate CLassification Problems\n",
    "pd.crosstab(val_y, prediction, rownames=['True'], colnames=['Predicted'], margins=True)"
   ]
  },
  {
   "cell_type": "markdown",
   "metadata": {},
   "source": [
    "#### Comment:\n",
    "- For **9 rows, the model predicted 7 correct** - about 77.8%\n",
    "- The model **predicted all dead passengers correctly**\n",
    "- There are **2 passengers who survived but the model predicted them to be dead**\n",
    "<hr>\n",
    "- The model **tend to predict people to be dead**\n",
    "    - Too many features telling the model the passenger died\n",
    "    - Should **include more features that can help model to conclude he or she survived**"
   ]
  },
  {
   "cell_type": "markdown",
   "metadata": {},
   "source": [
    "# 9. Kaggle Submission"
   ]
  },
  {
   "cell_type": "code",
   "execution_count": 35,
   "metadata": {},
   "outputs": [],
   "source": [
    "kaggle_pred = gd.best_estimator_.predict(test)\n",
    "\n",
    "submission = pd.DataFrame(test.index)\n",
    "submission['Survived'] = kaggle_pred.astype(int)\n",
    "submission.to_csv(\"./submission_titanic.csv\", index = False)"
   ]
  },
  {
   "cell_type": "markdown",
   "metadata": {},
   "source": [
    "## 9.1 Kaggle Score\n",
    "<img src=\"Titanic_Kaggle_Score.JPG\"/>"
   ]
  },
  {
   "cell_type": "markdown",
   "metadata": {},
   "source": [
    "# 10. Conclusion\n",
    "- Titanic classification problem is really an amazing starting point for ML beginners. It does not overwhelm you with so many features, yet there are so many possible ways of interpretating and engineering the features and each way will train models differently, resulting in different accuracy\n",
    "- It really helped me in grasping basic ML concepts such as Exploratory Data Analysis, imputing missing values, feature encoding, model selection, hyperparameter tuning and model evluation. \n",
    "- Along the way, I also became familiar with great Python libraries such as pandas, numpy, matplotlib and seaborn.\n",
    "- Not only Titanic classification problem has allowed me to peak into the life of a data scientist, it also laid a strong foundation for me to further explore this field and I am now much confident in approaching other ML problems"
   ]
  },
  {
   "cell_type": "markdown",
   "metadata": {},
   "source": [
    "# Reference:\n",
    "- https://www.kaggle.com/konstantinmasich/titanic-0-82-0-83/notebook\n",
    "- https://www.kaggle.com/csw4192/titanic-randomforest\n",
    "- https://www.kaggle.com/shaochuanwang/titanic-ml-tutorial-on-small-dataset-0-82296/notebook"
   ]
  }
 ],
 "metadata": {
  "kernelspec": {
   "display_name": "Python 3",
   "language": "python",
   "name": "python3"
  },
  "language_info": {
   "codemirror_mode": {
    "name": "ipython",
    "version": 3
   },
   "file_extension": ".py",
   "mimetype": "text/x-python",
   "name": "python",
   "nbconvert_exporter": "python",
   "pygments_lexer": "ipython3",
   "version": "3.6.6"
  }
 },
 "nbformat": 4,
 "nbformat_minor": 2
}
